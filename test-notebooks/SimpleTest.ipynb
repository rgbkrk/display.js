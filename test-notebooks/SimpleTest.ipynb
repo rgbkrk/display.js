{
 "cells": [
  {
   "cell_type": "code",
   "execution_count": 1,
   "id": "fd0a659e-a144-496d-8045-5e3341a172a4",
   "metadata": {},
   "outputs": [
    {
     "data": {},
     "execution_count": 1,
     "metadata": {},
     "output_type": "execute_result"
    }
   ],
   "source": [
    "import { display, $display } from \"../mod.ts\""
   ]
  },
  {
   "cell_type": "markdown",
   "id": "d2461805-ae15-406a-bafd-2992c67c53c3",
   "metadata": {},
   "source": [
    "This notebook is here for creating a _super_ simple test of the `display` module."
   ]
  },
  {
   "cell_type": "code",
   "execution_count": 5,
   "id": "f061e508-f5e3-4019-82d0-c2bb42155bf6",
   "metadata": {},
   "outputs": [
    {
     "data": {
      "text/markdown": [
       "_Deno_ time!"
      ]
     },
     "execution_count": 5,
     "metadata": {},
     "output_type": "execute_result"
    }
   ],
   "source": [
    "display({'text/markdown': '_Deno_ time!'}, {raw: true})"
   ]
  },
  {
   "cell_type": "code",
   "execution_count": 6,
   "id": "b9846851-4ccb-4d0b-b977-7b5d783825a9",
   "metadata": {},
   "outputs": [
    {
     "data": {
      "text/markdown": [
       "We are **live**!"
      ]
     },
     "execution_count": 6,
     "metadata": {},
     "output_type": "execute_result"
    }
   ],
   "source": [
    "class Test {\n",
    " [$display]() {\n",
    "     return {'text/markdown': \"We are **live**!\"};\n",
    " }\n",
    "}\n",
    "\n",
    "new Test()"
   ]
  },
  {
   "cell_type": "code",
   "execution_count": 7,
   "id": "bc242890-2341-4e97-9b7b-ad24cf55d7b3",
   "metadata": {},
   "outputs": [
    {
     "data": {
      "text/markdown": [
       "# Hello from Deno"
      ]
     },
     "execution_count": 7,
     "metadata": {},
     "output_type": "execute_result"
    }
   ],
   "source": [
    "{\n",
    "  [Symbol.for('Jupyter.display')]: () => ({\n",
    "    'text/markdown': '# Hello from Deno'\n",
    "  })\n",
    "}"
   ]
  },
  {
   "cell_type": "code",
   "execution_count": 8,
   "id": "ec708bcb-c684-4e76-a175-d824534029d6",
   "metadata": {},
   "outputs": [
    {
     "data": {
      "text/markdown": [
       "# Hello from Deno"
      ]
     },
     "execution_count": 8,
     "metadata": {},
     "output_type": "execute_result"
    }
   ],
   "source": [
    "display({'text/markdown': '# Hello from Deno'})"
   ]
  },
  {
   "cell_type": "code",
   "execution_count": 16,
   "id": "23768dbe-29dc-43f5-854f-36132aede01f",
   "metadata": {},
   "outputs": [
    {
     "data": {
      "text/plain": [
       "Error: When using raw=true, the object must be a collection of media types.\n",
       "    at display (file:///Users/kai/code/src/github.com/rgbkrk/display.js/mod.ts:77:9)\n",
       "    at <anonymous>:3:18\n",
       "    at assertThrows (https://deno.land/std@0.201.0/assert/assert_throws.ts:100:5)\n",
       "    at <anonymous>:3:1"
      ]
     },
     "execution_count": 16,
     "metadata": {},
     "output_type": "execute_result"
    }
   ],
   "source": [
    "import { assertThrows } from \"https://deno.land/std@0.201.0/assert/mod.ts\";\n",
    "\n",
    "assertThrows(\n",
    "    () => display(2),\n",
    "    Error,\n",
    "    \"object must be a collection of media types\"\n",
    ");"
   ]
  }
 ],
 "metadata": {
  "kernelspec": {
   "display_name": "Deno",
   "language": "typescript",
   "name": "deno"
  },
  "language_info": {
   "file_extension": ".ts",
   "mimetype": "text/x.typescript",
   "name": "typescript",
   "nb_converter": "script",
   "pygments_lexer": "typescript",
   "version": "5.2.2"
  }
 },
 "nbformat": 4,
 "nbformat_minor": 5
}
