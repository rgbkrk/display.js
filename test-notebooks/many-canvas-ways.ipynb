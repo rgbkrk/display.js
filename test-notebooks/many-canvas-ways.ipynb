{
 "cells": [
  {
   "cell_type": "code",
   "execution_count": 16,
   "id": "fbf09fdc-8191-4cfd-a6d4-6d3cadf7fe99",
   "metadata": {},
   "outputs": [
    {
     "data": {
      "image/png": "[encoded data removed]"
     },
     "execution_count": 16,
     "metadata": {},
     "output_type": "execute_result"
    }
   ],
   "source": [
    "import { createCanvas } from \"https://deno.land/x/canvas/mod.ts\";\n",
    "import { display } from \"../mod.ts\"\n",
    "\n",
    "const canvas = createCanvas(20, 20);\n",
    "const ctx = canvas.getContext(\"2d\");\n",
    "\n",
    "ctx.fillStyle = \"#8342d8\";\n",
    "ctx.fillRect(0, 0, 20, 20);\n",
    "\n",
    "var d = {\n",
    "    [Symbol.for(\"Jupyter.display\")]: () => ({\n",
    "        'image/png': canvas.toDataURL().split(',')[1]\n",
    "    })\n",
    "}\n",
    "d"
   ]
  },
  {
   "cell_type": "code",
   "execution_count": 17,
   "id": "8925fd4d-91c5-4783-9446-a3b47ba6ca7d",
   "metadata": {},
   "outputs": [
    {
     "data": {
      "image/png": "[encoded data removed]"
     },
     "metadata": {},
     "output_type": "display_data"
    }
   ],
   "source": [
    "await display({\n",
    "    'image/png': canvas.toDataURL().split(',')[1]\n",
    "}, {raw: true})"
   ]
  },
  {
   "cell_type": "code",
   "execution_count": 18,
   "id": "9e333e36-2203-4a0f-8dcd-a0a904aca534",
   "metadata": {},
   "outputs": [
    {
     "data": {
      "image/png": "[encoded data removed]"
     },
     "metadata": {},
     "output_type": "display_data"
    }
   ],
   "source": [
    "await display(canvas)"
   ]
  },
  {
   "cell_type": "code",
   "execution_count": null,
   "id": "8f786e99-6da7-42ac-b5e0-3f9d0bf183f8",
   "metadata": {},
   "outputs": [],
   "source": []
  },
  {
   "cell_type": "code",
   "execution_count": null,
   "id": "8ec6b1fa-ee53-4e70-84f7-cd693beb15c4",
   "metadata": {},
   "outputs": [],
   "source": []
  }
 ],
 "metadata": {
  "kernelspec": {
   "display_name": "Deno",
   "language": "typescript",
   "name": "deno"
  },
  "language_info": {
   "file_extension": ".ts",
   "mimetype": "text/x.typescript",
   "name": "typescript",
   "nb_converter": "script",
   "pygments_lexer": "typescript",
   "version": "5.2.2"
  }
 },
 "nbformat": 4,
 "nbformat_minor": 5
}
