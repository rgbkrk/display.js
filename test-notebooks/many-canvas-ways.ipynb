{
 "cells": [
  {
   "cell_type": "code",
   "execution_count": 10,
   "id": "fbf09fdc-8191-4cfd-a6d4-6d3cadf7fe99",
   "metadata": {},
   "outputs": [
    {
     "data": {
      "image/png": "[encoded data removed]"
     },
     "execution_count": 10,
     "metadata": {},
     "output_type": "execute_result"
    }
   ],
   "source": [
    "import { createCanvas } from \"https://deno.land/x/canvas/mod.ts\";\n",
    "import { display } from \"https://deno.land/x/display@v0.0.4/mod.ts\"\n",
    "\n",
    "const canvas = createCanvas(20, 20);\n",
    "const ctx = canvas.getContext(\"2d\");\n",
    "\n",
    "ctx.fillStyle = \"#8342d8\";\n",
    "ctx.fillRect(0, 0, 20, 20);\n",
    "\n",
    "var d = {\n",
    "    [Symbol.for(\"Jupyter.display\")]: () => ({\n",
    "        'image/png': canvas.toDataURL().split(',')[1]\n",
    "    })\n",
    "}\n",
    "d"
   ]
  },
  {
   "cell_type": "code",
   "execution_count": 11,
   "id": "8925fd4d-91c5-4783-9446-a3b47ba6ca7d",
   "metadata": {},
   "outputs": [
    {
     "data": {
      "image/png": "[encoded data removed]"
     },
     "execution_count": 11,
     "metadata": {},
     "output_type": "execute_result"
    }
   ],
   "source": [
    "display({\n",
    "    'image/png': canvas.toDataURL().split(',')[1]\n",
    "})"
   ]
  },
  {
   "cell_type": "code",
   "execution_count": 12,
   "id": "9e333e36-2203-4a0f-8dcd-a0a904aca534",
   "metadata": {},
   "outputs": [
    {
     "data": {
      "image/png": "[encoded data removed]"
     },
     "execution_count": 12,
     "metadata": {},
     "output_type": "execute_result"
    }
   ],
   "source": [
    "display(canvas)"
   ]
  }
 ],
 "metadata": {
  "kernelspec": {
   "display_name": "Deno",
   "language": "typescript",
   "name": "deno"
  },
  "language_info": {
   "file_extension": ".ts",
   "mimetype": "text/x.typescript",
   "name": "typescript",
   "nb_converter": "script",
   "pygments_lexer": "typescript",
   "version": "5.2.2"
  }
 },
 "nbformat": 4,
 "nbformat_minor": 5
}
