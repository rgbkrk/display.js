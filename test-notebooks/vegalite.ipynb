{
 "cells": [
  {
   "cell_type": "code",
   "execution_count": 2,
   "id": "5bc8d200-6019-42ef-b660-26d2d4259fd1",
   "metadata": {},
   "outputs": [
    {
     "data": {
      "application/vnd.vegalite.v5+json": {
       "$schema": "https://vega.github.io/schema/vega-lite/v5.json",
       "data": {
        "values": [
         {
          "a": "A",
          "b": 28
         },
         {
          "a": "B",
          "b": 55
         },
         {
          "a": "C",
          "b": 43
         },
         {
          "a": "D",
          "b": 91
         },
         {
          "a": "E",
          "b": 81
         },
         {
          "a": "F",
          "b": 53
         },
         {
          "a": "G",
          "b": 19
         },
         {
          "a": "H",
          "b": 87
         },
         {
          "a": "I",
          "b": 52
         }
        ]
       },
       "encoding": {
        "tooltip": [
         {
          "field": "b",
          "type": "quantitative"
         },
         {
          "field": "a",
          "type": "nominal"
         }
        ],
        "x": {
         "field": "b",
         "type": "quantitative"
        },
        "y": {
         "field": "a",
         "type": "nominal"
        }
       },
       "mark": {
        "tooltip": true,
        "type": "bar"
       }
      },
      "image/png": "[encoded data removed]"
     },
     "metadata": {},
     "output_type": "display_data"
    }
   ],
   "source": [
    "import { display } from \"../mod.ts\";\n",
    "\n",
    "import vl from 'npm:vega-lite-api';\n",
    "\n",
    "await display(\n",
    "    vl.markBar({ tooltip: true })\n",
    "        .data([\n",
    "          { a: \"A\", b: 28 }, { a: \"B\", b: 55 }, { a: \"C\", b: 43 },\n",
    "          { a: \"D\", b: 91 }, { a: \"E\", b: 81 }, { a: \"F\", b: 53 },\n",
    "          { a: \"G\", b: 19 }, { a: \"H\", b: 87 }, { a: \"I\", b: 52 },\n",
    "        ])\n",
    "        .encode(\n",
    "          vl.x().fieldQ(\"b\"),\n",
    "          vl.y().fieldN(\"a\"),\n",
    "          vl.tooltip([vl.fieldQ(\"b\"), vl.fieldN(\"a\")])\n",
    "        )\n",
    ")"
   ]
  }
 ],
 "metadata": {
  "kernelspec": {
   "display_name": "Deno",
   "language": "typescript",
   "name": "deno"
  },
  "language_info": {
   "file_extension": ".ts",
   "mimetype": "text/x.typescript",
   "name": "typescript",
   "nb_converter": "script",
   "pygments_lexer": "typescript",
   "version": "5.2.2"
  }
 },
 "nbformat": 4,
 "nbformat_minor": 5
}
