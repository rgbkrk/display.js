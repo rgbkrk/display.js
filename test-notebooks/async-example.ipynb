{
 "cells": [
  {
   "cell_type": "code",
   "execution_count": 14,
   "id": "0bb275f9-6f62-4ef4-9b6a-ada9aedef1bf",
   "metadata": {},
   "outputs": [
    {
     "data": {
      "text/html": [
       "<b>Tada!</b>"
      ]
     },
     "metadata": {},
     "output_type": "display_data"
    }
   ],
   "source": [
    "import { display } from \"../mod.ts\"\n",
    "\n",
    "class AsyncExample {\n",
    "    async [Symbol.for(\"Jupyter.display\")]() {\n",
    "        return {\"text/html\": \"<b>Tada!</b>\"}\n",
    "    }\n",
    "}\n",
    "\n",
    "await display(new AsyncExample())"
   ]
  }
 ],
 "metadata": {
  "kernelspec": {
   "display_name": "Deno",
   "language": "typescript",
   "name": "deno"
  },
  "language_info": {
   "file_extension": ".ts",
   "mimetype": "text/x.typescript",
   "name": "typescript",
   "nb_converter": "script",
   "pygments_lexer": "typescript",
   "version": "5.2.2"
  }
 },
 "nbformat": 4,
 "nbformat_minor": 5
}
