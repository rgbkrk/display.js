{
 "cells": [
  {
   "cell_type": "code",
   "execution_count": 13,
   "id": "5338e78d-722c-4d08-a749-520c0feae888",
   "metadata": {},
   "outputs": [
    {
     "data": {
      "text/plain": [
       "Object [DataFrame] {\n",
       "  fruit: shape: (3,)\n",
       "  Series: 'fruit' [str]\n",
       "  [\n",
       "  \t\"Apples\"\n",
       "  \t\"Oranges\"\n",
       "  \t\"Ooples & Banoo…\n",
       "  ],\n",
       "  value: shape: (3,)\n",
       "  Series: 'value' [f64]\n",
       "  [\n",
       "  \t0.0\n",
       "  \t1.0\n",
       "  \t0.5\n",
       "  ],\n",
       "  comparability: shape: (3,)\n",
       "  Series: 'comparability' [str]\n",
       "  [\n",
       "  \t\"<\"\n",
       "  \t\">\"\n",
       "  \t\"=\"\n",
       "  ],\n",
       "  \u001b[32m\"< 0.5\"\u001b[39m: shape: (3,)\n",
       "  Series: '< 0.5' [bool]\n",
       "  [\n",
       "  \ttrue\n",
       "  \tfalse\n",
       "  \tfalse\n",
       "  ]\n",
       "}"
      ]
     },
     "execution_count": 13,
     "metadata": {},
     "output_type": "execute_result"
    }
   ],
   "source": [
    "import * as pl from \"npm:nodejs-polars\"\n",
    "\n",
    "let df = new pl.DataFrame({\n",
    "    fruit: ['Apples', 'Oranges', 'Ooples & Banoonoos'],\n",
    "    value: [0, 1, 0.5],\n",
    "    comparability: [\"<\", \">\", \"=\"],\n",
    "    \"< 0.5\": [true, false, false]\n",
    "})\n",
    "\n",
    "df"
   ]
  },
  {
   "cell_type": "code",
   "execution_count": 14,
   "id": "a28fecec-baa9-4f38-a00c-8ac6b78900a5",
   "metadata": {},
   "outputs": [],
   "source": [
    "import { display } from \"../mod.ts\""
   ]
  },
  {
   "cell_type": "code",
   "execution_count": 15,
   "id": "409102d2-8813-442d-ba09-9bf5f8c53fee",
   "metadata": {},
   "outputs": [
    {
     "data": {
      "application/vnd.dataresource+json": {
       "data": [
        {
         "< 0.5": true,
         "comparability": "<",
         "fruit": "Apples",
         "value": 0
        },
        {
         "< 0.5": false,
         "comparability": ">",
         "fruit": "Oranges",
         "value": 1
        },
        {
         "< 0.5": false,
         "comparability": "=",
         "fruit": "Ooples & Banoonoos",
         "value": 0.5
        }
       ],
       "schema": {
        "fields": [
         {
          "name": "fruit",
          "type": "string"
         },
         {
          "name": "value",
          "type": "number"
         },
         {
          "name": "comparability",
          "type": "string"
         },
         {
          "name": "< 0.5",
          "type": "boolean"
         }
        ]
       }
      },
      "text/html": [
       "<table><thead><tr><th>fruit</th><th>value</th><th>comparability</th><th>&lt; 0.5</th></tr></thead><tbody><tr><td>Apples</td><td>0</td><td>&lt;</td><td>true</td></tr><tr><td>Oranges</td><td>1</td><td>&gt;</td><td>false</td></tr><tr><td>Ooples &amp; Banoonoos</td><td>0.5</td><td>=</td><td>false</td></tr></tbody></table>"
      ]
     },
     "metadata": {},
     "output_type": "display_data"
    }
   ],
   "source": [
    "await display(df)"
   ]
  },
  {
   "cell_type": "code",
   "execution_count": null,
   "id": "d8fe099a-d862-4485-8ee7-28c730a14ba5",
   "metadata": {},
   "outputs": [],
   "source": []
  }
 ],
 "metadata": {
  "kernelspec": {
   "display_name": "Deno",
   "language": "typescript",
   "name": "deno"
  },
  "language_info": {
   "file_extension": ".ts",
   "mimetype": "text/x.typescript",
   "name": "typescript",
   "nb_converter": "script",
   "pygments_lexer": "typescript",
   "version": "5.2.2"
  }
 },
 "nbformat": 4,
 "nbformat_minor": 5
}
