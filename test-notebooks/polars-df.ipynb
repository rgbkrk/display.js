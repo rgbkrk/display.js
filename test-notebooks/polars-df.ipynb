{
 "cells": [
  {
   "cell_type": "code",
   "execution_count": 1,
   "id": "5338e78d-722c-4d08-a749-520c0feae888",
   "metadata": {},
   "outputs": [
    {
     "data": {
      "text/plain": [
       "Object [DataFrame] {\n",
       "  fruit: shape: (2,)\n",
       "  Series: 'fruit' [str]\n",
       "  [\n",
       "  \t\"Apples\"\n",
       "  \t\"Oranges\"\n",
       "  ],\n",
       "  comparability: shape: (2,)\n",
       "  Series: 'comparability' [f64]\n",
       "  [\n",
       "  \t0.0\n",
       "  \t1.0\n",
       "  ]\n",
       "}"
      ]
     },
     "execution_count": 1,
     "metadata": {},
     "output_type": "execute_result"
    }
   ],
   "source": [
    "import * as pl from \"npm:nodejs-polars\"\n",
    "\n",
    "let df = new pl.DataFrame({\n",
    "    fruit: ['Apples', 'Oranges'],\n",
    "    comparability: [0, 1]\n",
    "})\n",
    "\n",
    "df"
   ]
  },
  {
   "cell_type": "code",
   "execution_count": 2,
   "id": "a28fecec-baa9-4f38-a00c-8ac6b78900a5",
   "metadata": {},
   "outputs": [
    {
     "data": {},
     "execution_count": 2,
     "metadata": {},
     "output_type": "execute_result"
    }
   ],
   "source": [
    "import { display } from \"../mod.ts\""
   ]
  },
  {
   "cell_type": "code",
   "execution_count": 3,
   "id": "409102d2-8813-442d-ba09-9bf5f8c53fee",
   "metadata": {},
   "outputs": [
    {
     "data": {
      "application/vnd.dataresource+json": {
       "data": [
        {
         "comparability": 0,
         "fruit": "Apples"
        },
        {
         "comparability": 1,
         "fruit": "Oranges"
        }
       ],
       "schema": {
        "fields": [
         {
          "name": "fruit",
          "type": "string"
         },
         {
          "name": "comparability",
          "type": "number"
         }
        ]
       }
      },
      "text/html": [
       "<table><thead><tr><th>fruit</th><th>comparability</th></tr></thead><tbody><tr><td>Apples</td><td>0</td></tr><tr><td>Oranges</td><td>1</td></tr></tbody></table>"
      ]
     },
     "execution_count": 3,
     "metadata": {},
     "output_type": "execute_result"
    },
    {
     "name": "stdout",
     "output_type": "stream",
     "text": [
      "Are we a dataframe? \u001b[33mtrue\u001b[39m\n"
     ]
    }
   ],
   "source": [
    "display(df)"
   ]
  }
 ],
 "metadata": {
  "kernelspec": {
   "display_name": "Deno",
   "language": "typescript",
   "name": "deno"
  },
  "language_info": {
   "file_extension": ".ts",
   "mimetype": "text/x.typescript",
   "name": "typescript",
   "nb_converter": "script",
   "pygments_lexer": "typescript",
   "version": "5.2.2"
  }
 },
 "nbformat": 4,
 "nbformat_minor": 5
}
